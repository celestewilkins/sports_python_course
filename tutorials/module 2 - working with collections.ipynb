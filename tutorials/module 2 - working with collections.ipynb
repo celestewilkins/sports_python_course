{
 "cells": [
  {
   "cell_type": "markdown",
   "metadata": {},
   "source": [
    "### **Module 2: Working with Collections**\n",
    "\n",
    "---\n",
    "\n",
    "#### **Introduction to Collections**\n",
    "\n",
    "Collections allow you to store multiple items in a single variable. Python provides different types of collections, each suited for specific purposes. The most common ones are:\n",
    "\n",
    "1. **List**: Ordered, changeable, and allows duplicate items.\n",
    "2. **Dictionary (`dict`)**: Unordered, changeable, and stores data in key-value pairs.\n",
    "\n",
    "In this module, we'll learn how to create, access, and add data to these collections.\n",
    "\n",
    "---\n",
    "\n",
    "### **Working with Lists**\n",
    "\n",
    "A **list** is a collection of items, such as numbers, strings, or a mix of types. Items in a list are ordered and can be accessed using their **index** (starting at 0).\n",
    "\n",
    "#### **Creating and Accessing Lists**\n",
    "```python\n",
    "# Creating a list\n",
    "player_names = [\"LeBron James\", \"Stephen Curry\", \"Kevin Durant\"]\n",
    "print(\"Player names:\", player_names)\n",
    "\n",
    "# Accessing list items by index\n",
    "print(\"First player:\", player_names[0])  # Access first item\n",
    "print(\"Last player:\", player_names[-1])  # Access last item\n",
    "\n",
    "# Adding items to a list\n",
    "player_names.append(\"Giannis Antetokounmpo\")\n",
    "print(\"Updated player names:\", player_names)\n"
   ]
  },
  {
   "cell_type": "markdown",
   "metadata": {},
   "source": [
    "### **Working with Dictionaries**\n",
    "\n",
    "A **dictionary** stores data in **key-value pairs**. Keys are used to access the values, and they must be unique.\n",
    "\n",
    "---\n",
    "\n",
    "### **Creating and Accessing Dictionaries**\n"
   ]
  },
  {
   "cell_type": "code",
   "execution_count": null,
   "metadata": {},
   "outputs": [],
   "source": [
    "# Creating a dictionary\n",
    "player_stats = {\n",
    "    \"LeBron James\": {\"team\": \"Lakers\", \"points_per_game\": 27.2},\n",
    "    \"Stephen Curry\": {\"team\": \"Warriors\", \"points_per_game\": 24.6},\n",
    "}\n",
    "print(\"Player stats:\", player_stats)\n",
    "\n",
    "# Accessing values using keys\n",
    "print(\"LeBron's team:\", player_stats[\"LeBron James\"][\"team\"])\n"
   ]
  },
  {
   "cell_type": "markdown",
   "metadata": {},
   "source": [
    "Add items to a dictionary"
   ]
  },
  {
   "cell_type": "code",
   "execution_count": null,
   "metadata": {},
   "outputs": [],
   "source": [
    "# Adding a new key-value pair\n",
    "player_stats[\"Kevin Durant\"] = {\"team\": \"Suns\", \"points_per_game\": 26.9}\n",
    "print(\"Updated player stats:\", player_stats)\n"
   ]
  },
  {
   "cell_type": "markdown",
   "metadata": {},
   "source": [
    "### **Key Differences Between Lists and Dictionaries**\n",
    "\n",
    "| Feature           | List                       | Dictionary                     |\n",
    "|-------------------|---------------------------|--------------------------------|\n",
    "| **Data Storage**  | Ordered collection of items | Key-value pairs               |\n",
    "| **Access Method** | Access by index            | Access by key                 |\n",
    "| **Duplicates**    | Allows duplicates          | Keys must be unique           |\n",
    "\n",
    "---\n",
    "\n",
    "### **Your Turn: Exercises**\n",
    "\n",
    "1. Create a list of your favorite sports and add one more to it.  \n",
    "2. Create a dictionary with three players, their teams, and their points per game. Then, add a new player to the dictionary.\n"
   ]
  },
  {
   "cell_type": "code",
   "execution_count": null,
   "metadata": {},
   "outputs": [],
   "source": []
  }
 ],
 "metadata": {
  "kernelspec": {
   "display_name": "gatorcap",
   "language": "python",
   "name": "python3"
  },
  "language_info": {
   "name": "python",
   "version": "3.10.15"
  }
 },
 "nbformat": 4,
 "nbformat_minor": 2
}
