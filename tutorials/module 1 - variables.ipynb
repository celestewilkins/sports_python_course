{
 "cells": [
  {
   "cell_type": "markdown",
   "metadata": {},
   "source": [
    "### **Module 1: Getting Started with Python and Variable Types**\n",
    "\n",
    "#### **Introduction to Python**\n",
    "\n",
    "Python is a beginner-friendly programming language often used in data analysis, sports science, and many other fields. \n",
    "\n",
    "In Python, **variables** store information. Each variable has a **type** that determines what kind of information it holds. Here are some common variable types:\n",
    "\n",
    "1. **String (`str`)**: Used for text.\n",
    "2. **Integer (`int`)**: Used for whole numbers.\n",
    "3. **Float (`float`)**: Used for decimal numbers.\n",
    "4. **Boolean (`bool`)**: Used for `True` or `False` values.\n",
    "\n",
    "---\n",
    "\n",
    "#### **Creating Variables**\n",
    "\n",
    "Run the following code to understand variables and their types:\n"
   ]
  },
  {
   "cell_type": "code",
   "execution_count": null,
   "metadata": {},
   "outputs": [],
   "source": [
    "# String: Text data\n",
    "sport_name = \"Basketball\"\n",
    "print(\"Type of sport_name:\", type(sport_name))  # Check the type\n",
    "\n",
    "# Integer: Whole number\n",
    "number_of_players = 5\n",
    "print(\"Type of number_of_players:\", type(number_of_players))\n",
    "\n",
    "# Float: Decimal number\n",
    "average_speed = 7.5  # meters per second\n",
    "print(\"Type of average_speed:\", type(average_speed))\n",
    "\n",
    "# Boolean: True or False\n",
    "is_team_sport = True\n",
    "print(\"Type of is_team_sport:\", type(is_team_sport))\n"
   ]
  },
  {
   "cell_type": "markdown",
   "metadata": {},
   "source": [
    "#### Code Examples\n",
    "\n",
    "Creating Variables\n",
    "\n",
    "Run the following code in your Jupyter notebook to understand variables and their types:"
   ]
  },
  {
   "cell_type": "code",
   "execution_count": null,
   "metadata": {},
   "outputs": [],
   "source": [
    "# String: Text data\n",
    "sport_name = \"Basketball\"\n",
    "print(\"Type of sport_name:\", type(sport_name))  # Check the type\n",
    "\n",
    "# Integer: Whole number\n",
    "number_of_players = 5\n",
    "print(\"Type of number_of_players:\", type(number_of_players))\n",
    "\n",
    "# Float: Decimal number\n",
    "average_speed = 7.5  # meters per second\n",
    "print(\"Type of average_speed:\", type(average_speed))\n",
    "\n",
    "# Boolean: True or False\n",
    "is_team_sport = True\n",
    "print(\"Type of is_team_sport:\", type(is_team_sport))\n"
   ]
  },
  {
   "cell_type": "markdown",
   "metadata": {},
   "source": [
    "### **Your Turn: Exercises**\n",
    "\n",
    "1. Create a variable for your favorite sport, its average match duration (in minutes), and whether it is an Olympic sport.  \n",
    "2. Use `print()` and `type()` to display the type of each variable.\n"
   ]
  },
  {
   "cell_type": "code",
   "execution_count": null,
   "metadata": {},
   "outputs": [],
   "source": []
  }
 ],
 "metadata": {
  "kernelspec": {
   "display_name": "gatorcap",
   "language": "python",
   "name": "python3"
  },
  "language_info": {
   "name": "python",
   "version": "3.10.15"
  }
 },
 "nbformat": 4,
 "nbformat_minor": 2
}
