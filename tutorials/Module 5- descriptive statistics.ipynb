{
 "cells": [
  {
   "cell_type": "markdown",
   "metadata": {},
   "source": [
    "### **Module 5: Descriptive Statistics**\n",
    "\n",
    "---\n",
    "\n",
    "### **Introduction to Descriptive Statistics**\n",
    "\n",
    "Descriptive statistics summarize data in a meaningful way to make it easier to understand. In sports data, you might use descriptive statistics to find:\n",
    "- The average number of points per game.\n",
    "- The highest jump height.\n",
    "- The total number of goals scored.\n",
    "\n",
    "Python makes it easy to calculate these statistics using lists, dictionaries, Numpy arrays, and Pandas dataframes.\n",
    "\n",
    "---\n",
    "\n",
    "### **Calculating Statistics with Lists**\n",
    "\n",
    "A Python list can store numerical data, and you can use functions like `sum()`, `len()`, and `max()` to calculate statistics.\n",
    "\n",
    "\n"
   ]
  },
  {
   "cell_type": "code",
   "execution_count": null,
   "metadata": {},
   "outputs": [],
   "source": [
    "# Example: Points scored by a player in the last 5 games\n",
    "points = [24, 30, 28, 22, 26]\n",
    "\n",
    "# Calculate statistics\n",
    "average_points = sum(points) / len(points)\n",
    "max_points = max(points)\n",
    "total_points = sum(points)\n",
    "\n",
    "print(\"Average points:\", average_points)\n",
    "print(\"Maximum points:\", max_points)\n",
    "print(\"Total points:\", total_points)"
   ]
  },
  {
   "cell_type": "markdown",
   "metadata": {},
   "source": [
    "### Calculating Statistics with Dictionaries\n",
    "If your data is in a dictionary, you can extract the values and calculate statistics."
   ]
  },
  {
   "cell_type": "code",
   "execution_count": null,
   "metadata": {},
   "outputs": [],
   "source": [
    "# Example: Points scored by players\n",
    "player_points = {\n",
    "    \"LeBron James\": 27.2,\n",
    "    \"Stephen Curry\": 24.6,\n",
    "    \"Kevin Durant\": 26.9,\n",
    "}\n",
    "\n",
    "# Extract values\n",
    "points = list(player_points.values())\n",
    "\n",
    "# Calculate statistics\n",
    "average_points = sum(points) / len(points)\n",
    "print(\"Average points:\", average_points)\n"
   ]
  },
  {
   "cell_type": "markdown",
   "metadata": {},
   "source": [
    "### Calculating Statistics with Numpy Arrays\n",
    "Numpy arrays have built-in functions for calculating statistics.\n",
    "\n"
   ]
  },
  {
   "cell_type": "code",
   "execution_count": null,
   "metadata": {},
   "outputs": [],
   "source": [
    "import numpy as np\n",
    "\n",
    "# Example: Jump heights in cm\n",
    "jump_heights = np.array([35, 42, 38, 45, 40])\n",
    "\n",
    "# Calculate statistics\n",
    "average_height = np.mean(jump_heights)\n",
    "max_height = np.max(jump_heights)\n",
    "total_height = np.sum(jump_heights)\n",
    "\n",
    "print(\"Average height:\", average_height)\n",
    "print(\"Maximum height:\", max_height)\n",
    "print(\"Total height:\", total_height)\n"
   ]
  },
  {
   "cell_type": "markdown",
   "metadata": {},
   "source": [
    "### Calculating Statistics with Pandas Dataframes\n",
    "Pandas dataframes make it easy to calculate statistics for entire columns of data."
   ]
  },
  {
   "cell_type": "code",
   "execution_count": null,
   "metadata": {},
   "outputs": [],
   "source": [
    "import pandas as pd\n",
    "\n",
    "# Example: Player data\n",
    "player_data = {\n",
    "    \"Name\": [\"LeBron James\", \"Stephen Curry\", \"Kevin Durant\"],\n",
    "    \"Points Per Game\": [27.2, 24.6, 26.9],\n",
    "}\n",
    "df = pd.DataFrame(player_data)\n",
    "\n",
    "# Calculate statistics\n",
    "average_points = df[\"Points Per Game\"].mean()\n",
    "max_points = df[\"Points Per Game\"].max()\n",
    "total_points = df[\"Points Per Game\"].sum()\n",
    "\n",
    "print(\"Average points:\", average_points)\n",
    "print(\"Maximum points:\", max_points)\n",
    "print(\"Total points:\", total_points)\n"
   ]
  },
  {
   "cell_type": "markdown",
   "metadata": {},
   "source": [
    "### **Your Turn: Exercises**\n",
    "\n",
    "1. Use a **list** to store the game scores of a basketball team: `[102, 96, 110, 98, 115]`.\n",
    "   - Calculate the average, maximum, and total score.\n",
    "\n",
    "2. Use a **dictionary** to store the points scored by players:  \n",
    "   `{\"Player A\": 20, \"Player B\": 18, \"Player C\": 25, \"Player D\": 15}`  \n",
    "   - Calculate the total and average points.\n",
    "\n",
    "3. Create a **Numpy array** for the times (in seconds) of 5 sprints: `[11.2, 10.9, 11.5, 10.8, 11.0]`.\n",
    "   - Calculate the average and fastest sprint time.\n",
    "\n",
    "4. Create a **Pandas dataframe** with two columns:\n",
    "   - **Columns**: `Player`, `Goals Scored`\n",
    "   - **Data**:  \n",
    "     - `Player 1`, `12`  \n",
    "     - `Player 2`, `9`  \n",
    "     - `Player 3`, `15`  \n",
    "     - `Player 4`, `10`  \n",
    "   - Find the total and average goals scored.\n"
   ]
  }
 ],
 "metadata": {
  "kernelspec": {
   "display_name": "gatorcap",
   "language": "python",
   "name": "python3"
  },
  "language_info": {
   "name": "python",
   "version": "3.10.15"
  }
 },
 "nbformat": 4,
 "nbformat_minor": 2
}
