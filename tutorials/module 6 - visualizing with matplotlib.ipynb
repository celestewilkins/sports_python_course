{
 "cells": [
  {
   "cell_type": "markdown",
   "metadata": {},
   "source": [
    "### **Module 6: Data Visualization with Matplotlib**\n",
    "\n",
    "---\n",
    "\n",
    "### **Introduction to Matplotlib**\n",
    "\n",
    "Matplotlib is a powerful Python library for creating visualizations. It is commonly used to plot:\n",
    "- Line graphs (e.g., joint angles over time).\n",
    "- Bar charts (e.g., team scores or player statistics).\n",
    "\n",
    "Visualizations are essential in sports data analysis to uncover trends and patterns.\n",
    "\n",
    "---\n",
    "\n",
    "### **Plotting Continuous Data**\n",
    "\n",
    "#### **Line Plot: Joint Angles Over Time**\n",
    "A **line plot** is useful for showing how a variable changes over time.\n"
   ]
  },
  {
   "cell_type": "code",
   "execution_count": null,
   "metadata": {},
   "outputs": [],
   "source": [
    "import matplotlib.pyplot as plt\n",
    "\n",
    "# Example: Joint angles over time (degrees)\n",
    "time = [0, 1, 2, 3, 4, 5]  # Time in seconds\n",
    "joint_angles = [45, 50, 55, 60, 58, 54]  # Joint angle in degrees\n",
    "\n",
    "# Create a line plot\n",
    "plt.plot(time, joint_angles, marker=\"o\")\n",
    "plt.title(\"Joint Angles Over Time\")\n",
    "plt.xlabel(\"Time (s)\")\n",
    "plt.ylabel(\"Joint Angle (degrees)\")\n",
    "plt.grid(True)\n",
    "plt.show()\n"
   ]
  },
  {
   "cell_type": "markdown",
   "metadata": {},
   "source": [
    "### Creating a Bar Chart\n",
    "#### Bar Chart: Team Scores\n",
    "A bar chart is useful for comparing categorical data, such as scores of different teams."
   ]
  },
  {
   "cell_type": "code",
   "execution_count": null,
   "metadata": {},
   "outputs": [],
   "source": [
    "# Example: Team scores\n",
    "teams = [\"Team A\", \"Team B\", \"Team C\", \"Team D\"]\n",
    "scores = [85, 92, 88, 79]\n",
    "\n",
    "# Create a bar chart\n",
    "plt.bar(teams, scores, color=\"skyblue\")\n",
    "plt.title(\"Team Scores\")\n",
    "plt.xlabel(\"Teams\")\n",
    "plt.ylabel(\"Scores\")\n",
    "plt.show()\n"
   ]
  },
  {
   "cell_type": "markdown",
   "metadata": {},
   "source": [
    "### Customizing Plots\n",
    "#### You can customize your plots by:\n",
    "\n",
    "Changing colors, markers, and line styles.\n",
    "Adding gridlines and legends."
   ]
  },
  {
   "cell_type": "code",
   "execution_count": null,
   "metadata": {},
   "outputs": [],
   "source": [
    "# Customizing a line plot\n",
    "plt.plot(time, joint_angles, marker=\"o\", linestyle=\"--\", color=\"purple\", label=\"Joint Angle\")\n",
    "plt.title(\"Customized Joint Angles Plot\")\n",
    "plt.xlabel(\"Time (s)\")\n",
    "plt.ylabel(\"Joint Angle (degrees)\")\n",
    "plt.grid(True)\n",
    "plt.legend()\n",
    "plt.show()\n"
   ]
  },
  {
   "cell_type": "markdown",
   "metadata": {},
   "source": [
    "### **Your Turn: Exercises**\n",
    "\n",
    "1. Create a **line plot** for the following data:  \n",
    "   - **Time (seconds)**: `[0, 1, 2, 3, 4, 5]`  \n",
    "   - **Player Speed (m/s)**: `[4.2, 4.5, 5.0, 5.3, 5.1, 4.8]`  \n",
    "   - Label the axes as \"Time (s)\" and \"Speed (m/s)\" and add a title.\n",
    "\n",
    "2. Create a **bar chart** for the following data:  \n",
    "   - **Teams**: `[\"Team A\", \"Team B\", \"Team C\"]`  \n",
    "   - **Points**: `[45, 50, 40]`  \n",
    "   - Label the axes as \"Teams\" and \"Points\" and add a title.\n",
    "\n",
    "3. Customize the **line plot** from Exercise 1:\n",
    "   - Use a dashed line (`\"--\"`) and a red color for the line.\n",
    "   - Add gridlines and a legend.\n"
   ]
  },
  {
   "cell_type": "code",
   "execution_count": null,
   "metadata": {},
   "outputs": [],
   "source": []
  }
 ],
 "metadata": {
  "language_info": {
   "name": "python"
  }
 },
 "nbformat": 4,
 "nbformat_minor": 2
}
