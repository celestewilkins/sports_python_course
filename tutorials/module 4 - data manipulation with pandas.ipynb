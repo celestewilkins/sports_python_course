{
 "cells": [
  {
   "cell_type": "markdown",
   "metadata": {},
   "source": [
    "### **Module 4: Data Manipulation with Pandas**\n",
    "\n",
    "---\n",
    "\n",
    "### **Introduction to Pandas**\n",
    "\n",
    "Pandas is a Python library for working with data in table-like structures called **dataframes**. A dataframe is similar to an Excel spreadsheet or SQL table. It is widely used for data analysis and manipulation.\n",
    "\n",
    "Key features of Pandas:\n",
    "- **Dataframes and Series**: Dataframes store 2D data (rows and columns), while Series are 1D arrays.\n",
    "- **Data Manipulation**: Adding, removing, or modifying data is easy.\n",
    "- **Descriptive Statistics**: Quickly calculate means, sums, counts, and more.\n",
    "\n",
    "---\n",
    "\n",
    "### **Working with Pandas Dataframes**\n",
    "\n",
    "#### **Creating a Pandas Dataframe**\n",
    "You can create a dataframe using Python dictionaries or lists.\n"
   ]
  },
  {
   "cell_type": "code",
   "execution_count": null,
   "metadata": {},
   "outputs": [],
   "source": [
    "import pandas as pd  # Import the Pandas library\n",
    "\n",
    "# Create a dataframe from a dictionary\n",
    "player_data = {\n",
    "    \"Name\": [\"LeBron James\", \"Stephen Curry\", \"Kevin Durant\"],\n",
    "    \"Team\": [\"Lakers\", \"Warriors\", \"Suns\"],\n",
    "    \"Points Per Game\": [27.2, 24.6, 26.9],\n",
    "}\n",
    "df = pd.DataFrame(player_data)\n",
    "print(df)"
   ]
  },
  {
   "cell_type": "markdown",
   "metadata": {},
   "source": [
    "### Adding Data to a Dataframe\n",
    "You can add new columns or rows to a dataframe."
   ]
  },
  {
   "cell_type": "code",
   "execution_count": null,
   "metadata": {},
   "outputs": [],
   "source": [
    "# Add a new column for player heights\n",
    "df[\"Height (cm)\"] = [206, 191, 208]\n",
    "print(\"Dataframe with heights:\\n\", df)\n",
    "\n",
    "# Add a new row\n",
    "new_player = pd.DataFrame(\n",
    "    {\"Name\": [\"Giannis Antetokounmpo\"], \"Team\": [\"Bucks\"], \"Points Per Game\": [29.9], \"Height (cm)\": [211]}\n",
    ")\n",
    "df = pd.concat([df, new_player], ignore_index=True)\n",
    "print(\"Updated dataframe:\\n\", df)\n"
   ]
  },
  {
   "cell_type": "markdown",
   "metadata": {},
   "source": [
    "### Extracting Data from a Dataframe\n",
    "You can access specific rows, columns, or individual values."
   ]
  },
  {
   "cell_type": "code",
   "execution_count": null,
   "metadata": {},
   "outputs": [],
   "source": [
    "# Access a single column\n",
    "print(\"Names of players:\\n\", df[\"Name\"])\n",
    "\n",
    "# Access a single row by index\n",
    "print(\"First player's data:\\n\", df.iloc[0])\n",
    "\n",
    "# Access a specific value\n",
    "print(\"LeBron's points per game:\", df.loc[df[\"Name\"] == \"LeBron James\", \"Points Per Game\"].values[0])\n"
   ]
  },
  {
   "cell_type": "markdown",
   "metadata": {},
   "source": [
    "### **Your Turn: Exercises**\n",
    "\n",
    "1. Create a dataframe with the following data for three sports:\n",
    "   - **Columns**: `Sport`, `Players Per Team`, `Is Team Sport`\n",
    "   - **Data**:  \n",
    "     - `Basketball`, `5`, `True`  \n",
    "     - `Tennis`, `1`, `False`  \n",
    "     - `Soccer`, `11`, `True`\n",
    "\n",
    "2. Add a new column to the dataframe from Exercise 1 named `Average Duration (minutes)` with the values `[48, 90, 90]`.\n",
    "\n",
    "3. Extract the `Sport` and `Average Duration (minutes)` columns from the dataframe.\n"
   ]
  },
  {
   "cell_type": "code",
   "execution_count": null,
   "metadata": {},
   "outputs": [],
   "source": []
  }
 ],
 "metadata": {
  "language_info": {
   "name": "python"
  }
 },
 "nbformat": 4,
 "nbformat_minor": 2
}
