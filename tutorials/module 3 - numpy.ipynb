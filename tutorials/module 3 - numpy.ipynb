{
 "cells": [
  {
   "cell_type": "markdown",
   "metadata": {},
   "source": [
    "### **Module 3: Numerical Computing with Numpy**\n",
    "\n",
    "\n",
    "#### **Before We Begin: Importing Packages**\n",
    "\n",
    "In Python, libraries or \"packages\" contain pre-written code that you can use to perform specific tasks. To use these, you need to **import** them. \n",
    "\n",
    "For example:\n",
    "```python\n",
    "import numpy as np\n",
    "```\n",
    "---\n",
    "\n",
    "#### **Introduction to Numpy**\n",
    "\n",
    "Numpy is a powerful Python library for numerical computing. It is especially useful for handling arrays of numbers, which are common in sports data (e.g., player speeds, joint angles, or force values over time).\n",
    "\n",
    "Key features of Numpy arrays:\n",
    "- **Efficiency**: Arrays are faster and more memory-efficient than Python lists for numerical data.\n",
    "- **Element-wise operations**: Perform operations on entire arrays at once.\n",
    "- **Dimensionality**: Numpy arrays can be 1D, 2D, or even higher dimensions.\n",
    "\n",
    "---\n",
    "\n",
    "### **Working with Numpy Arrays**\n",
    "\n",
    "#### **Creating a Numpy Array**\n",
    "You can create a Numpy array from a Python list or generate arrays using built-in functions.\n",
    "\n"
   ]
  },
  {
   "cell_type": "markdown",
   "metadata": {},
   "source": [
    "### Accessing and Modifying Data\n",
    "Access data using indexing (similar to lists) or slicing (selecting subsets)."
   ]
  },
  {
   "cell_type": "code",
   "execution_count": null,
   "metadata": {},
   "outputs": [],
   "source": [
    "import numpy as np  # Import the Numpy library\n",
    "\n",
    "# Create a Numpy array from a Python list\n",
    "player_speeds = np.array([5.2, 6.7, 7.1, 5.8])\n",
    "print(\"Player speeds:\", player_speeds)\n",
    "\n",
    "# Generate an array of zeros\n",
    "zero_array = np.zeros(5)\n",
    "print(\"Array of zeros:\", zero_array)\n",
    "\n",
    "# Generate an array of evenly spaced values\n",
    "angles = np.linspace(0, 90, 5)  # From 0 to 90 degrees, 5 points\n",
    "print(\"Angles:\", angles)\n",
    "\n",
    "\n",
    "# Access elements by index\n",
    "print(\"First speed:\", player_speeds[0])\n",
    "print(\"Last speed:\", player_speeds[-1])\n",
    "\n",
    "# Modify an element\n",
    "player_speeds[1] = 7.5\n",
    "print(\"Updated player speeds:\", player_speeds)\n",
    "\n",
    "# Slice a range of elements\n",
    "print(\"First three speeds:\", player_speeds[:3])\n"
   ]
  },
  {
   "cell_type": "markdown",
   "metadata": {},
   "source": [
    "### Element-wise Operations\n",
    "Perform mathematical operations directly on arrays."
   ]
  },
  {
   "cell_type": "code",
   "execution_count": null,
   "metadata": {},
   "outputs": [],
   "source": [
    "# Adding a constant to all elements\n",
    "adjusted_speeds = player_speeds + 1.0\n",
    "print(\"Adjusted speeds:\", adjusted_speeds)\n",
    "\n",
    "# Element-wise multiplication\n",
    "scaled_speeds = player_speeds * 1.2\n",
    "print(\"Scaled speeds:\", scaled_speeds)\n",
    "\n",
    "# Computing statistical metrics\n",
    "average_speed = np.mean(player_speeds)\n",
    "print(\"Average speed:\", average_speed)\n",
    "\n",
    "max_speed = np.max(player_speeds)\n",
    "print(\"Maximum speed:\", max_speed)\n"
   ]
  },
  {
   "cell_type": "markdown",
   "metadata": {},
   "source": [
    "### Your Turn: Exercises\n",
    "Create a Numpy array with the jump heights (in cm) of 5 players: [35, 42, 38, 45, 40].\n",
    "\n",
    "Calculate the average and maximum jump height.\n",
    "\n",
    "Add 2 cm to each jump height and print the updated array.\n",
    "\n",
    "Generate an array of 10 angles from 0 to 180 degrees using np.linspace.\n",
    "\n",
    "Convert these angles to radians using the formula: radians = degrees * np.pi / 180.\n",
    "\n",
    "Print the converted values."
   ]
  },
  {
   "cell_type": "code",
   "execution_count": null,
   "metadata": {},
   "outputs": [],
   "source": [
    "# Exercise 1\n",
    "\n",
    "\n",
    "\n",
    "# Add 2 cm to each height\n",
    "\n",
    "\n",
    "\n",
    "# Exercise 2\n",
    "\n"
   ]
  },
  {
   "cell_type": "code",
   "execution_count": null,
   "metadata": {},
   "outputs": [],
   "source": []
  }
 ],
 "metadata": {
  "kernelspec": {
   "display_name": "gatorcap",
   "language": "python",
   "name": "python3"
  },
  "language_info": {
   "codemirror_mode": {
    "name": "ipython",
    "version": 3
   },
   "file_extension": ".py",
   "mimetype": "text/x-python",
   "name": "python",
   "nbconvert_exporter": "python",
   "pygments_lexer": "ipython3",
   "version": "3.10.15"
  }
 },
 "nbformat": 4,
 "nbformat_minor": 2
}
