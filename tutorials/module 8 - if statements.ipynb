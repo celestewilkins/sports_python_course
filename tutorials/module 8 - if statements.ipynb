{
 "cells": [
  {
   "cell_type": "markdown",
   "metadata": {},
   "source": [
    "### **Module 8: If Statements**\n",
    "\n",
    "---\n",
    "\n",
    "### **Introduction to If Statements**\n",
    "\n",
    "If statements allow your program to make decisions by executing code only when certain conditions are met. This is essential for logic-based tasks like categorizing data, filtering results, or handling errors.\n",
    "\n",
    "---\n",
    "\n",
    "### **Basic Structure of If Statements**\n",
    "\n",
    "An `if` statement checks a condition. If the condition is `True`, the code inside the block is executed.\n",
    "\n",
    "#### **Syntax**\n",
    "```python\n",
    "if condition:\n",
    "    # Code to execute if the condition is True\n",
    "elif another_condition:\n",
    "    # Code to execute if the previous condition is False but this one is True\n",
    "else:\n",
    "    # Code to execute if all conditions are False\n"
   ]
  },
  {
   "cell_type": "code",
   "execution_count": null,
   "metadata": {},
   "outputs": [],
   "source": [
    "# Example: Categorizing a player's score\n",
    "score = 25\n",
    "\n",
    "if score > 30:\n",
    "    print(\"Excellent performance!\")\n",
    "elif score > 20:\n",
    "    print(\"Good performance!\")\n",
    "else:\n",
    "    print(\"Needs improvement.\")"
   ]
  },
  {
   "cell_type": "markdown",
   "metadata": {},
   "source": [
    "#### If Statements with Variables\n",
    "##### You can use `if` statements to check conditions on variables.\n",
    "\n",
    "Example: Evaluating Player Performance"
   ]
  },
  {
   "cell_type": "code",
   "execution_count": null,
   "metadata": {},
   "outputs": [],
   "source": [
    "points = 22\n",
    "threshold = 20\n",
    "\n",
    "if points >= threshold:\n",
    "    print(\"Player met the performance threshold.\")\n",
    "else:\n",
    "    print(\"Player did not meet the performance threshold.\")\n"
   ]
  },
  {
   "cell_type": "markdown",
   "metadata": {},
   "source": [
    "#### If Statements with Logical Operators\n",
    "##### Logical operators like `and`, `or`, and `not` let you combine conditions.\n",
    "\n",
    "Example: Using Logical Operators\n"
   ]
  },
  {
   "cell_type": "code",
   "execution_count": null,
   "metadata": {},
   "outputs": [],
   "source": [
    "# Example: Checking if a player qualifies\n",
    "age = 24\n",
    "experience = 3\n",
    "\n",
    "if age < 25 and experience >= 3:\n",
    "    print(\"Player qualifies for the team.\")\n",
    "else:\n",
    "    print(\"Player does not qualify.\")\n"
   ]
  },
  {
   "cell_type": "markdown",
   "metadata": {},
   "source": [
    "#### If Statements with Collections\n",
    "##### You can use `if` statements with lists, dictionaries, or dataframes to filter data or check conditions.\n",
    "\n",
    "Example: Filtering a List"
   ]
  },
  {
   "cell_type": "code",
   "execution_count": null,
   "metadata": {},
   "outputs": [],
   "source": [
    "# Example: Filtering player scores\n",
    "scores = [15, 25, 10, 30, 20]\n",
    "high_scores = []\n",
    "\n",
    "for score in scores:\n",
    "    if score > 20:\n",
    "        high_scores.append(score)\n",
    "\n",
    "print(\"High scores:\", high_scores)\n"
   ]
  },
  {
   "cell_type": "markdown",
   "metadata": {},
   "source": [
    "Example: Filtering a Pandas Dataframe"
   ]
  },
  {
   "cell_type": "code",
   "execution_count": null,
   "metadata": {},
   "outputs": [],
   "source": [
    "import pandas as pd\n",
    "\n",
    "# Create a dataframe\n",
    "data = {\n",
    "    \"Player\": [\"Player A\", \"Player B\", \"Player C\"],\n",
    "    \"Score\": [18, 25, 22],\n",
    "}\n",
    "df = pd.DataFrame(data)\n",
    "\n",
    "# Filter players with scores above 20\n",
    "filtered_df = df[df[\"Score\"] > 20]\n",
    "print(\"Filtered players:\\n\", filtered_df)\n"
   ]
  },
  {
   "cell_type": "markdown",
   "metadata": {},
   "source": [
    "### **Your Turn: Exercises**\n",
    "\n",
    "1. Write an `if` statement to categorize a player's score (`score = 28`) as:\n",
    "   - `\"Excellent\"` if the score is greater than 30.\n",
    "   - `\"Good\"` if the score is between 20 and 30 (inclusive).\n",
    "   - `\"Needs improvement\"` if the score is less than 20.\n",
    "\n",
    "2. Use a **list** of player scores: `[12, 22, 18, 30, 25]`.  \n",
    "   Write a loop that prints `\"Above threshold\"` for scores greater than 20 and `\"Below threshold\"` for scores 20 or less.\n",
    "\n",
    "3. Use a **dictionary** of players and their ages:  \n",
    "   `{\"Player A\": 22, \"Player B\": 28, \"Player C\": 24}`.  \n",
    "   Write a loop that prints the player's name and whether they are `\"Eligible\"` (age <= 25) or `\"Not eligible\"` (age > 25).\n",
    "\n",
    "4. Create a **Pandas dataframe** with the following data:\n",
    "   - **Columns**: `Player`, `Score`  \n",
    "   - **Data**:  \n",
    "     - `Player A`, `18`  \n",
    "     - `Player B`, `25`  \n",
    "     - `Player C`, `22`  \n",
    "   Filter the dataframe to include only players with scores above 20.\n"
   ]
  }
 ],
 "metadata": {
  "kernelspec": {
   "display_name": "gatorcap",
   "language": "python",
   "name": "python3"
  },
  "language_info": {
   "name": "python",
   "version": "3.10.15"
  }
 },
 "nbformat": 4,
 "nbformat_minor": 2
}
