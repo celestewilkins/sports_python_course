{
 "cells": [
  {
   "cell_type": "markdown",
   "metadata": {},
   "source": [
    "### **Module 7: Loops and Iterations**\n",
    "\n",
    "---\n",
    "\n",
    "### **Introduction to Loops**\n",
    "\n",
    "Loops are used to repeat a block of code multiple times. They are especially useful for processing collections like lists, dictionaries, or dataframes.\n",
    "\n",
    "Python provides two main types of loops:\n",
    "1. **`for` loops**: Iterate over a sequence (e.g., a list or dictionary).\n",
    "2. **`while` loops**: Repeat code as long as a condition is `True`.\n",
    "\n",
    "In this module, we'll focus on `for` loops as they are commonly used in sports data analysis.\n",
    "\n",
    "---\n",
    "\n",
    "### **Using `for` Loops with Lists**\n",
    "\n",
    "A `for` loop iterates through each item in a list.\n",
    "\n",
    "#### **Example: Iterating Over a List**"
   ]
  },
  {
   "cell_type": "code",
   "execution_count": null,
   "metadata": {},
   "outputs": [],
   "source": [
    "# Example: List of player names\n",
    "player_names = [\"LeBron James\", \"Stephen Curry\", \"Kevin Durant\"]\n",
    "\n",
    "# Loop through the list\n",
    "for player in player_names:\n",
    "    print(player)"
   ]
  },
  {
   "cell_type": "markdown",
   "metadata": {},
   "source": [
    "#### Using `for` Loops with Dictionaries\n",
    "##### You can iterate over the `keys`, `values`, or both in a dictionary.\n",
    "\n",
    "Example: Iterating Over a Dictionary"
   ]
  },
  {
   "cell_type": "code",
   "execution_count": null,
   "metadata": {},
   "outputs": [],
   "source": [
    "# Example: Player points\n",
    "player_points = {\n",
    "    \"LeBron James\": 27.2,\n",
    "    \"Stephen Curry\": 24.6,\n",
    "    \"Kevin Durant\": 26.9,\n",
    "}\n",
    "\n",
    "# Loop through the dictionary\n",
    "for player, points in player_points.items():\n",
    "    print(f\"{player} scored {points} points per game.\")\n"
   ]
  },
  {
   "cell_type": "markdown",
   "metadata": {},
   "source": [
    "#### Using `for` Loops with Pandas Dataframes\n",
    "##### You can loop through rows of a dataframe using the `.iterrows()` method.\n",
    "\n",
    "Example: Iterating Over a Dataframe"
   ]
  },
  {
   "cell_type": "code",
   "execution_count": null,
   "metadata": {},
   "outputs": [],
   "source": [
    "import pandas as pd\n",
    "\n",
    "# Create a dataframe\n",
    "player_data = {\n",
    "    \"Name\": [\"LeBron James\", \"Stephen Curry\", \"Kevin Durant\"],\n",
    "    \"Team\": [\"Lakers\", \"Warriors\", \"Suns\"],\n",
    "    \"Points Per Game\": [27.2, 24.6, 26.9],\n",
    "}\n",
    "df = pd.DataFrame(player_data)\n",
    "\n",
    "# Loop through each row\n",
    "for index, row in df.iterrows():\n",
    "    print(f\"{row['Name']} plays for the {row['Team']}.\")\n"
   ]
  },
  {
   "cell_type": "markdown",
   "metadata": {},
   "source": [
    "#### Using `enumerate()` to Get Index and Value\n",
    "##### The `enumerate()` function allows you to loop through a list while keeping track of the index of each item.\n",
    "\n",
    "Example: Using `enumerate()`"
   ]
  },
  {
   "cell_type": "code",
   "execution_count": null,
   "metadata": {},
   "outputs": [],
   "source": [
    "# Example: List of game scores\n",
    "game_scores = [102, 96, 110, 98, 115]\n",
    "\n",
    "# Loop through the list with index and value\n",
    "for index, score in enumerate(game_scores):\n",
    "    print(f\"Game {index + 1}: {score} points\")\n"
   ]
  },
  {
   "cell_type": "markdown",
   "metadata": {},
   "source": [
    "#### Using `zip` to Iterate Over Multiple Lists\n",
    "##### The `zip` function combines multiple lists into pairs (or tuples) that you can iterate over simultaneously.\n",
    "\n",
    "Example: Using `zip()`"
   ]
  },
  {
   "cell_type": "code",
   "execution_count": null,
   "metadata": {},
   "outputs": [],
   "source": [
    "# Example: Player names and points scored\n",
    "players = [\"Player A\", \"Player B\", \"Player C\"]\n",
    "points = [20, 18, 25]\n",
    "\n",
    "# Loop through both lists\n",
    "for player, point in zip(players, points):\n",
    "    print(f\"{player} scored {point} points.\")\n"
   ]
  },
  {
   "cell_type": "markdown",
   "metadata": {},
   "source": [
    "#### Nested `for` Loops\n",
    "##### Nested loops are useful when working with multi-dimensional data or performing operations between multiple lists.\n",
    "\n",
    "Example: Nested Loops"
   ]
  },
  {
   "cell_type": "code",
   "execution_count": null,
   "metadata": {},
   "outputs": [],
   "source": [
    "# Example: Players and their game scores\n",
    "players = [\"Player A\", \"Player B\"]\n",
    "game_scores = [[20, 25, 30], [15, 18, 22]]  # Scores for 3 games per player\n",
    "\n",
    "# Nested loop to print each player's scores\n",
    "for player, scores in zip(players, game_scores):\n",
    "    print(f\"Scores for {player}:\")\n",
    "    for game, score in enumerate(scores, start=1):\n",
    "        print(f\"  Game {game}: {score} points\")\n"
   ]
  },
  {
   "cell_type": "markdown",
   "metadata": {},
   "source": [
    "### **Your Turn: Exercises**\n",
    "\n",
    "1. Use a **list** of player names: `[\"Player A\", \"Player B\", \"Player C\"]`.  \n",
    "   Write a loop that prints each player's name with the message: `\"Player X is ready to play!\"`.\n",
    "\n",
    "2. Use a **list** of game scores: `[102, 96, 110, 98, 115]`.  \n",
    "   Use `enumerate()` to print the game number and score for each game.\n",
    "\n",
    "3. Use a **dictionary** of player points:  \n",
    "   `{\"Player A\": 20, \"Player B\": 18, \"Player C\": 25}`.  \n",
    "   Write a loop that prints each player's name and their points.\n",
    "\n",
    "4. Use the **`zip` function** to combine these lists:  \n",
    "   - `players = [\"Player A\", \"Player B\", \"Player C\"]`  \n",
    "   - `points = [20, 18, 25]`  \n",
    "   Write a loop to print each player's name and their points.\n",
    "\n",
    "5. Create a **nested loop** for the following data:  \n",
    "   - **Players**: `[\"Player A\", \"Player B\"]`  \n",
    "   - **Scores**: `[[20, 25, 30], [15, 18, 22]]`  \n",
    "   Write a loop to print each player's name and their scores for 3 games.\n"
   ]
  },
  {
   "cell_type": "code",
   "execution_count": null,
   "metadata": {},
   "outputs": [],
   "source": []
  }
 ],
 "metadata": {
  "language_info": {
   "name": "python"
  }
 },
 "nbformat": 4,
 "nbformat_minor": 2
}
