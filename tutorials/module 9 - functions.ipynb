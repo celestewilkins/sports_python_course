{
 "cells": [
  {
   "cell_type": "markdown",
   "metadata": {},
   "source": [
    "### **Module 9: Functions**\n",
    "\n",
    "---\n",
    "\n",
    "### **Introduction to Functions**\n",
    "\n",
    "Functions are reusable blocks of code that perform a specific task. They make your programs more organized and help avoid repeating the same code multiple times.\n",
    "\n",
    "---\n",
    "\n",
    "### **Defining and Calling Functions**\n",
    "\n",
    "To define a function, use the `def` keyword, followed by the function name and parentheses. Inside the parentheses, you can specify parameters, which are inputs for the function.\n",
    "\n",
    "#### **Syntax**\n",
    "```python\n",
    "def function_name(parameters):\n",
    "    # Code to execute\n",
    "    return result\n"
   ]
  },
  {
   "cell_type": "code",
   "execution_count": null,
   "metadata": {},
   "outputs": [],
   "source": [
    "# Define a function to calculate the square of a number\n",
    "def square(number):\n",
    "    return number**2\n",
    "\n",
    "# Call the function\n",
    "result = square(4)\n",
    "print(\"The square of 4 is:\", result)\n"
   ]
  },
  {
   "cell_type": "markdown",
   "metadata": {},
   "source": [
    "#### Functions with Multiple Parameters\n",
    "##### Functions can take multiple inputs and return a result.\n",
    "\n",
    "Example: Calculating Average Speed"
   ]
  },
  {
   "cell_type": "code",
   "execution_count": null,
   "metadata": {},
   "outputs": [],
   "source": [
    "# Define a function to calculate average speed\n",
    "def average_speed(distance, time):\n",
    "    return distance / time\n",
    "\n",
    "# Call the function\n",
    "speed = average_speed(100, 12)\n",
    "print(\"Average speed:\", speed, \"m/s\")\n"
   ]
  },
  {
   "cell_type": "markdown",
   "metadata": {},
   "source": [
    "#### Using Default Parameters\n",
    "##### You can specify default values for parameters. If no value is provided when calling the function, the default is used.\n",
    "\n",
    "Example: Calculating Points with a Default Bonus"
   ]
  },
  {
   "cell_type": "code",
   "execution_count": null,
   "metadata": {},
   "outputs": [],
   "source": [
    "# Define a function with a default parameter\n",
    "def calculate_points(base_points, bonus=5):\n",
    "    return base_points + bonus\n",
    "\n",
    "# Call the function with and without a bonus\n",
    "print(\"Points with bonus:\", calculate_points(20))  # Default bonus\n",
    "print(\"Points without bonus:\", calculate_points(20, bonus=0))\n"
   ]
  },
  {
   "cell_type": "markdown",
   "metadata": {},
   "source": [
    "#### Functions with Lists\n",
    "##### Functions can also process lists as input.\n",
    "\n",
    "Example: Filtering High Scores"
   ]
  },
  {
   "cell_type": "code",
   "execution_count": null,
   "metadata": {},
   "outputs": [],
   "source": [
    "# Define a function to filter scores above a threshold\n",
    "def filter_high_scores(scores, threshold):\n",
    "    return [score for score in scores if score > threshold]\n",
    "\n",
    "# Call the function\n",
    "scores = [15, 25, 10, 30, 20]\n",
    "high_scores = filter_high_scores(scores, 20)\n",
    "print(\"High scores:\", high_scores)\n"
   ]
  },
  {
   "cell_type": "markdown",
   "metadata": {},
   "source": [
    "### **Order of Parameters**\n",
    "\n",
    "When defining a function, you can use three types of parameters:\n",
    "\n",
    "1. **Positional parameters**: Required arguments passed in the order they are defined.  \n",
    "2. **Default parameters**: Optional arguments with default values.  \n",
    "3. **Keyword parameters**: Named arguments passed explicitly.\n",
    "\n",
    "---\n",
    "\n",
    "### **Rules for Ordering Parameters**\n",
    "\n",
    "1. Positional parameters first.  \n",
    "2. Default parameters next.  \n",
    "3. `*args` (variable-length positional arguments).  \n",
    "4. `**kwargs` (variable-length keyword arguments).\n",
    "\n",
    "---\n",
    "\n",
    "### **Example: Parameter Order**\n",
    "\n",
    "```python\n",
    "def player_stats(name, team, points=0, *args, **kwargs):\n",
    "    print(f\"Name: {name}, Team: {team}, Points: {points}\")\n",
    "    if args:\n",
    "        print(\"Additional positional arguments:\", args)\n",
    "    if kwargs:\n",
    "        print(\"Additional keyword arguments:\", kwargs)\n",
    "\n",
    "# Example usage\n",
    "player_stats(\"LeBron James\", \"Lakers\", 27, \"MVP\", season=\"2023\")\n"
   ]
  },
  {
   "cell_type": "markdown",
   "metadata": {},
   "source": [
    "#### Optional Parameters\n",
    "##### Optional parameters are defined by assigning a default value in the function definition. If no value is provided when calling the function, the default is used.\n",
    "\n",
    "Example: Calculating Points with Optional Parameters"
   ]
  },
  {
   "cell_type": "code",
   "execution_count": null,
   "metadata": {},
   "outputs": [],
   "source": [
    "def calculate_points(base_points, bonus=5):\n",
    "    \"\"\"\n",
    "    Calculate total points with an optional bonus.\n",
    "\n",
    "    Parameters:\n",
    "    base_points (int): The base points scored by the player.\n",
    "    bonus (int, optional): The bonus points. Defaults to 5.\n",
    "\n",
    "    Returns:\n",
    "    int: The total points.\n",
    "    \"\"\"\n",
    "    return base_points + bonus\n",
    "\n",
    "# Example usage\n",
    "print(\"Points with bonus:\", calculate_points(20))  # Default bonus\n",
    "print(\"Points without bonus:\", calculate_points(20, bonus=0))  # No bonus\n"
   ]
  },
  {
   "cell_type": "markdown",
   "metadata": {},
   "source": [
    "---\n",
    "\n",
    "### **Using Docstrings**\n",
    "\n",
    "A **docstring** is a special string that documents what a function does. It is written as the first statement in a function and is enclosed in triple quotes (`\"\"\"`).\n",
    "\n",
    "#### **Why Use Docstrings?**\n",
    "1. Helps explain the purpose of the function.\n",
    "2. Makes your code easier to understand and maintain.\n",
    "3. Can be accessed using Python's built-in `help()` function.\n",
    "\n",
    "---\n",
    "\n",
    "#### **Example: Writing a Docstring**\n",
    "\n",
    "\n"
   ]
  },
  {
   "cell_type": "code",
   "execution_count": null,
   "metadata": {},
   "outputs": [],
   "source": [
    "def calculate_average(scores):\n",
    "    \"\"\"\n",
    "    Calculate the average of a list of scores.\n",
    "\n",
    "    Parameters:\n",
    "    scores (list): A list of numerical scores.\n",
    "\n",
    "    Returns:\n",
    "    float: The average score.\n",
    "    \"\"\"\n",
    "    return sum(scores) / len(scores)\n",
    "\n",
    "# Access the docstring\n",
    "help(calculate_average)"
   ]
  },
  {
   "cell_type": "markdown",
   "metadata": {},
   "source": [
    "#### `True`, `False`, and `None`\n",
    "##### In Python, `True`, `False`, and `None` are special values often used in functions:\n",
    "\n",
    "1. `True` and `False`: Represent boolean values.\n",
    "\n",
    "2. `None`: Represents the absence of a value or a null value.\n"
   ]
  },
  {
   "cell_type": "code",
   "execution_count": null,
   "metadata": {},
   "outputs": [],
   "source": [
    "def is_eligible(age, experience=None):\n",
    "    \"\"\"\n",
    "    Determine if a player is eligible based on age and experience.\n",
    "\n",
    "    Parameters:\n",
    "    age (int): The player's age.\n",
    "    experience (int, optional): The player's years of experience. Defaults to None.\n",
    "\n",
    "    Returns:\n",
    "    bool: True if eligible, False otherwise.\n",
    "    \"\"\"\n",
    "    if experience is None:\n",
    "        return age < 25\n",
    "    return age < 25 and experience >= 2\n",
    "\n",
    "# Example usage\n",
    "print(is_eligible(24))  # No experience provided, uses default logic\n",
    "print(is_eligible(24, experience=3))  # Eligible based on age and experience\n",
    "print(is_eligible(28, experience=3))  # Not eligible\n"
   ]
  },
  {
   "cell_type": "markdown",
   "metadata": {},
   "source": [
    "#### Making Functions into .py Files\n",
    "##### To reuse functions across multiple projects, you can store them in a `.py` file. This makes your code modular and easier to manage.\n",
    "\n",
    "Steps to Create and Use a `.py` File\n",
    "\n",
    "Write your functions in a Python file (e.g., `player_utils.py`).\n",
    "\n",
    "Save the file in your project directory.\n",
    "\n",
    "Import the functions in another script using the import statement."
   ]
  },
  {
   "cell_type": "markdown",
   "metadata": {},
   "source": [
    "1. Write the function in `player_utils.py`"
   ]
  },
  {
   "cell_type": "code",
   "execution_count": null,
   "metadata": {},
   "outputs": [],
   "source": [
    "# File: player_utils.py\n",
    "def greet_player(name):\n",
    "    \"\"\"\n",
    "    Greet a player by name.\n",
    "\n",
    "    Parameters:\n",
    "    name (str): The player's name.\n",
    "\n",
    "    Returns:\n",
    "    str: A greeting message.\n",
    "    \"\"\"\n",
    "    return f\"Hello, {name}!\"\n"
   ]
  },
  {
   "cell_type": "markdown",
   "metadata": {},
   "source": [
    "2. Use the function in another script"
   ]
  },
  {
   "cell_type": "code",
   "execution_count": null,
   "metadata": {},
   "outputs": [],
   "source": [
    "# File: main.py\n",
    "from player_utils import greet_player\n",
    "\n",
    "print(greet_player(\"LeBron James\"))\n"
   ]
  },
  {
   "cell_type": "markdown",
   "metadata": {},
   "source": [
    "### **Your Turn: Exercises**\n",
    "\n",
    "1. Write a function with **positional**, **optional**, and `**kwargs` parameters to calculate the total score of a player.  \n",
    "   - The function should take `base_score` (positional) and `bonus` (optional, default 10).  \n",
    "   - It should also accept extra keyword arguments like `game_type` or `season`.  \n",
    "   - Return a dictionary with the total score and the extra information.\n",
    "\n",
    "2. Write a function with a **docstring** that filters a list of scores and returns only the scores greater than a given threshold.\n",
    "\n",
    "3. Write a function that uses **`None`** as a default value for an optional parameter (e.g., `experience`) and applies logic based on whether the parameter is provided or not.\n",
    "\n",
    "4. Create a `.py` file called `team_utils.py` with a function that calculates the win percentage of a team:  \n",
    "   - Parameters: `wins` (int), `games_played` (int).  \n",
    "   - Save and import the function into another script to test it.\n"
   ]
  },
  {
   "cell_type": "code",
   "execution_count": null,
   "metadata": {},
   "outputs": [],
   "source": []
  }
 ],
 "metadata": {
  "kernelspec": {
   "display_name": "gatorcap",
   "language": "python",
   "name": "python3"
  },
  "language_info": {
   "name": "python",
   "version": "3.10.15"
  }
 },
 "nbformat": 4,
 "nbformat_minor": 2
}
